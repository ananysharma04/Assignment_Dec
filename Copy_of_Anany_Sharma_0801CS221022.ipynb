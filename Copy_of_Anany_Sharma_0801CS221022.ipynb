{
  "cells": [
    {
      "cell_type": "markdown",
      "metadata": {
        "id": "view-in-github",
        "colab_type": "text"
      },
      "source": [
        "<a href=\"https://colab.research.google.com/github/ananysharma04/Assignment_Dec/blob/main/Copy_of_Anany_Sharma_0801CS221022.ipynb\" target=\"_parent\"><img src=\"https://colab.research.google.com/assets/colab-badge.svg\" alt=\"Open In Colab\"/></a>"
      ]
    },
    {
      "cell_type": "code",
      "execution_count": null,
      "metadata": {
        "id": "lqIYZbulrl9U",
        "colab": {
          "base_uri": "https://localhost:8080/"
        },
        "outputId": "85430998-4653-4384-838b-bc0825c9c6ed"
      },
      "outputs": [
        {
          "output_type": "stream",
          "name": "stdout",
          "text": [
            "Anany Sharma (0801CS221022)\n"
          ]
        }
      ],
      "source": [
        "print(\"Anany Sharma (0801CS221022)\")"
      ]
    },
    {
      "cell_type": "markdown",
      "source": [],
      "metadata": {
        "id": "az6clLm8Q2_P"
      }
    },
    {
      "cell_type": "markdown",
      "source": [
        "1) Using Pandas read any CSV file and display first five rows of that file."
      ],
      "metadata": {
        "id": "supFByqi_8CK"
      }
    },
    {
      "cell_type": "code",
      "execution_count": null,
      "metadata": {
        "colab": {
          "base_uri": "https://localhost:8080/"
        },
        "id": "PzhiKy_Us2YX",
        "outputId": "a76f831a-c153-43b9-c69c-f3cca875cd62"
      },
      "outputs": [
        {
          "output_type": "stream",
          "name": "stdout",
          "text": [
            "   7  0  0.1  0.2  0.3  0.4  0.5  0.6  0.7  0.8  ...  0.658  0.659  0.660  \\\n",
            "0  2  0    0    0    0    0    0    0    0    0  ...      0      0      0   \n",
            "1  1  0    0    0    0    0    0    0    0    0  ...      0      0      0   \n",
            "2  0  0    0    0    0    0    0    0    0    0  ...      0      0      0   \n",
            "3  4  0    0    0    0    0    0    0    0    0  ...      0      0      0   \n",
            "4  1  0    0    0    0    0    0    0    0    0  ...      0      0      0   \n",
            "\n",
            "   0.661  0.662  0.663  0.664  0.665  0.666  0.667  \n",
            "0      0      0      0      0      0      0      0  \n",
            "1      0      0      0      0      0      0      0  \n",
            "2      0      0      0      0      0      0      0  \n",
            "3      0      0      0      0      0      0      0  \n",
            "4      0      0      0      0      0      0      0  \n",
            "\n",
            "[5 rows x 785 columns]\n"
          ]
        }
      ],
      "source": [
        "import pandas as pd\n",
        "df=pd.read_csv(\"/content/sample_data/mnist_test.csv\")\n",
        "print(df.head())"
      ]
    },
    {
      "cell_type": "markdown",
      "source": [
        "Write a python program to print the contents of a directory using OS\n",
        "module. Search online for the function which does that."
      ],
      "metadata": {
        "id": "CMhf2B5-AdCA"
      }
    },
    {
      "cell_type": "code",
      "execution_count": null,
      "metadata": {
        "colab": {
          "base_uri": "https://localhost:8080/"
        },
        "id": "qH--PHVJvniL",
        "outputId": "bfb11825-f24b-41b3-c93a-d90b491ee020"
      },
      "outputs": [
        {
          "output_type": "stream",
          "name": "stdout",
          "text": [
            "['CLD_CONTINUED', 'CLD_DUMPED', 'CLD_EXITED', 'CLD_KILLED', 'CLD_STOPPED', 'CLD_TRAPPED', 'DirEntry', 'EFD_CLOEXEC', 'EFD_NONBLOCK', 'EFD_SEMAPHORE', 'EX_CANTCREAT', 'EX_CONFIG', 'EX_DATAERR', 'EX_IOERR', 'EX_NOHOST', 'EX_NOINPUT', 'EX_NOPERM', 'EX_NOUSER', 'EX_OK', 'EX_OSERR', 'EX_OSFILE', 'EX_PROTOCOL', 'EX_SOFTWARE', 'EX_TEMPFAIL', 'EX_UNAVAILABLE', 'EX_USAGE', 'F_LOCK', 'F_OK', 'F_TEST', 'F_TLOCK', 'F_ULOCK', 'GRND_NONBLOCK', 'GRND_RANDOM', 'GenericAlias', 'MFD_ALLOW_SEALING', 'MFD_CLOEXEC', 'MFD_HUGETLB', 'MFD_HUGE_16GB', 'MFD_HUGE_16MB', 'MFD_HUGE_1GB', 'MFD_HUGE_1MB', 'MFD_HUGE_256MB', 'MFD_HUGE_2GB', 'MFD_HUGE_2MB', 'MFD_HUGE_32MB', 'MFD_HUGE_512KB', 'MFD_HUGE_512MB', 'MFD_HUGE_64KB', 'MFD_HUGE_8MB', 'MFD_HUGE_MASK', 'MFD_HUGE_SHIFT', 'Mapping', 'MutableMapping', 'NGROUPS_MAX', 'O_ACCMODE', 'O_APPEND', 'O_ASYNC', 'O_CLOEXEC', 'O_CREAT', 'O_DIRECT', 'O_DIRECTORY', 'O_DSYNC', 'O_EXCL', 'O_FSYNC', 'O_LARGEFILE', 'O_NDELAY', 'O_NOATIME', 'O_NOCTTY', 'O_NOFOLLOW', 'O_NONBLOCK', 'O_PATH', 'O_RDONLY', 'O_RDWR', 'O_RSYNC', 'O_SYNC', 'O_TMPFILE', 'O_TRUNC', 'O_WRONLY', 'POSIX_FADV_DONTNEED', 'POSIX_FADV_NOREUSE', 'POSIX_FADV_NORMAL', 'POSIX_FADV_RANDOM', 'POSIX_FADV_SEQUENTIAL', 'POSIX_FADV_WILLNEED', 'POSIX_SPAWN_CLOSE', 'POSIX_SPAWN_DUP2', 'POSIX_SPAWN_OPEN', 'PRIO_PGRP', 'PRIO_PROCESS', 'PRIO_USER', 'P_ALL', 'P_NOWAIT', 'P_NOWAITO', 'P_PGID', 'P_PID', 'P_PIDFD', 'P_WAIT', 'PathLike', 'RTLD_DEEPBIND', 'RTLD_GLOBAL', 'RTLD_LAZY', 'RTLD_LOCAL', 'RTLD_NODELETE', 'RTLD_NOLOAD', 'RTLD_NOW', 'RWF_APPEND', 'RWF_DSYNC', 'RWF_HIPRI', 'RWF_NOWAIT', 'RWF_SYNC', 'R_OK', 'SCHED_BATCH', 'SCHED_FIFO', 'SCHED_IDLE', 'SCHED_OTHER', 'SCHED_RESET_ON_FORK', 'SCHED_RR', 'SEEK_CUR', 'SEEK_DATA', 'SEEK_END', 'SEEK_HOLE', 'SEEK_SET', 'SPLICE_F_MORE', 'SPLICE_F_MOVE', 'SPLICE_F_NONBLOCK', 'ST_APPEND', 'ST_MANDLOCK', 'ST_NOATIME', 'ST_NODEV', 'ST_NODIRATIME', 'ST_NOEXEC', 'ST_NOSUID', 'ST_RDONLY', 'ST_RELATIME', 'ST_SYNCHRONOUS', 'ST_WRITE', 'TMP_MAX', 'WCONTINUED', 'WCOREDUMP', 'WEXITED', 'WEXITSTATUS', 'WIFCONTINUED', 'WIFEXITED', 'WIFSIGNALED', 'WIFSTOPPED', 'WNOHANG', 'WNOWAIT', 'WSTOPPED', 'WSTOPSIG', 'WTERMSIG', 'WUNTRACED', 'W_OK', 'XATTR_CREATE', 'XATTR_REPLACE', 'XATTR_SIZE_MAX', 'X_OK', '_Environ', '__all__', '__builtins__', '__cached__', '__doc__', '__file__', '__loader__', '__name__', '__package__', '__spec__', '_check_methods', '_execvpe', '_exists', '_exit', '_fspath', '_fwalk', '_get_exports_list', '_spawnvef', '_walk', '_wrap_close', 'abc', 'abort', 'access', 'altsep', 'chdir', 'chmod', 'chown', 'chroot', 'close', 'closerange', 'confstr', 'confstr_names', 'copy_file_range', 'cpu_count', 'ctermid', 'curdir', 'defpath', 'device_encoding', 'devnull', 'dup', 'dup2', 'environ', 'environb', 'error', 'eventfd', 'eventfd_read', 'eventfd_write', 'execl', 'execle', 'execlp', 'execlpe', 'execv', 'execve', 'execvp', 'execvpe', 'extsep', 'fchdir', 'fchmod', 'fchown', 'fdatasync', 'fdopen', 'fork', 'forkpty', 'fpathconf', 'fsdecode', 'fsencode', 'fspath', 'fstat', 'fstatvfs', 'fsync', 'ftruncate', 'fwalk', 'get_blocking', 'get_exec_path', 'get_inheritable', 'get_terminal_size', 'getcwd', 'getcwdb', 'getegid', 'getenv', 'getenvb', 'geteuid', 'getgid', 'getgrouplist', 'getgroups', 'getloadavg', 'getlogin', 'getpgid', 'getpgrp', 'getpid', 'getppid', 'getpriority', 'getrandom', 'getresgid', 'getresuid', 'getsid', 'getuid', 'getxattr', 'initgroups', 'isatty', 'kill', 'killpg', 'lchown', 'linesep', 'link', 'listdir', 'listxattr', 'lockf', 'lseek', 'lstat', 'major', 'makedev', 'makedirs', 'memfd_create', 'minor', 'mkdir', 'mkfifo', 'mknod', 'name', 'nice', 'open', 'openpty', 'pardir', 'path', 'pathconf', 'pathconf_names', 'pathsep', 'pidfd_open', 'pipe', 'pipe2', 'popen', 'posix_fadvise', 'posix_fallocate', 'posix_spawn', 'posix_spawnp', 'pread', 'preadv', 'putenv', 'pwrite', 'pwritev', 'read', 'readlink', 'readv', 'register_at_fork', 'remove', 'removedirs', 'removexattr', 'rename', 'renames', 'replace', 'rmdir', 'scandir', 'sched_get_priority_max', 'sched_get_priority_min', 'sched_getaffinity', 'sched_getparam', 'sched_getscheduler', 'sched_param', 'sched_rr_get_interval', 'sched_setaffinity', 'sched_setparam', 'sched_setscheduler', 'sched_yield', 'sendfile', 'sep', 'set_blocking', 'set_inheritable', 'setegid', 'seteuid', 'setgid', 'setgroups', 'setpgid', 'setpgrp', 'setpriority', 'setregid', 'setresgid', 'setresuid', 'setreuid', 'setsid', 'setuid', 'setxattr', 'spawnl', 'spawnle', 'spawnlp', 'spawnlpe', 'spawnv', 'spawnve', 'spawnvp', 'spawnvpe', 'splice', 'st', 'stat', 'stat_result', 'statvfs', 'statvfs_result', 'strerror', 'supports_bytes_environ', 'supports_dir_fd', 'supports_effective_ids', 'supports_fd', 'supports_follow_symlinks', 'symlink', 'sync', 'sys', 'sysconf', 'sysconf_names', 'system', 'tcgetpgrp', 'tcsetpgrp', 'terminal_size', 'times', 'times_result', 'truncate', 'ttyname', 'umask', 'uname', 'uname_result', 'unlink', 'unsetenv', 'urandom', 'utime', 'wait', 'wait3', 'wait4', 'waitid', 'waitid_result', 'waitpid', 'waitstatus_to_exitcode', 'walk', 'write', 'writev']\n"
          ]
        }
      ],
      "source": [
        "import os\n",
        "print(dir(os))"
      ]
    },
    {
      "cell_type": "markdown",
      "source": [],
      "metadata": {
        "id": "lk01IcINAbU5"
      }
    },
    {
      "cell_type": "markdown",
      "source": [
        "3) Write a program to read image and find size and shape of image using external module."
      ],
      "metadata": {
        "id": "BtC_C0HzA_Wz"
      }
    },
    {
      "cell_type": "code",
      "execution_count": null,
      "metadata": {
        "colab": {
          "base_uri": "https://localhost:8080/"
        },
        "id": "M_kVn_iSwEFo",
        "outputId": "1a2b921a-49a2-4c0d-90e7-8d06cd06211d"
      },
      "outputs": [
        {
          "output_type": "stream",
          "name": "stdout",
          "text": [
            "Image Dimension    :  (619, 654, 3)\n",
            "Image Height       :  619\n",
            "Image Width        :  654\n",
            "Number of Channels :  3\n"
          ]
        }
      ],
      "source": [
        "import cv2\n",
        "\n",
        "img = cv2.imread(\"/content/image.png\")\n",
        "\n",
        "dimensions = img.shape\n",
        "\n",
        "# height, width, number of channels in image\n",
        "height = img.shape[0]\n",
        "width = img.shape[1]\n",
        "channels = img.shape[2]\n",
        "\n",
        "print('Image Dimension    : ',dimensions)\n",
        "print('Image Height       : ',height)\n",
        "print('Image Width        : ',width)\n",
        "print('Number of Channels : ',channels)"
      ]
    },
    {
      "cell_type": "markdown",
      "source": [
        "4) Please write a program to make a list of random numbers between 0 to\n",
        "10 and output numbers from that list which is divisible by 5 or 7, using random module."
      ],
      "metadata": {
        "id": "kTEPCWQ4BWN7"
      }
    },
    {
      "cell_type": "code",
      "execution_count": null,
      "metadata": {
        "colab": {
          "base_uri": "https://localhost:8080/"
        },
        "id": "c1RqcEfZ3sdS",
        "outputId": "0d3c5d77-b868-4d87-a1e9-cbf9263b6d1a"
      },
      "outputs": [
        {
          "output_type": "stream",
          "name": "stdout",
          "text": [
            "Random Numbers: [0, 5, 5, 4, 7, 6, 10, 0, 10, 2]\n",
            "Divisible Numbers: [0, 5, 5, 7, 10, 0, 10]\n"
          ]
        }
      ],
      "source": [
        "import random\n",
        "random_numbers = [random.randint(0, 10) for _ in range(10)]\n",
        "\n",
        "# Output the numbers divisible by 5 or 7\n",
        "divisible_numbers = [num for num in random_numbers if num % 5 == 0 or num % 7 == 0]\n",
        "\n",
        "print(\"Random Numbers:\", random_numbers)\n",
        "print(\"Divisible Numbers:\", divisible_numbers)"
      ]
    },
    {
      "cell_type": "markdown",
      "source": [
        "5) Write a python program to convert dictionary to xml."
      ],
      "metadata": {
        "id": "JnSpELjzBmZL"
      }
    },
    {
      "cell_type": "code",
      "execution_count": null,
      "metadata": {
        "colab": {
          "base_uri": "https://localhost:8080/"
        },
        "id": "VHpEbvv65eyg",
        "outputId": "51c4c50c-48d0-4c4f-fb1e-26f4d31426a2"
      },
      "outputs": [
        {
          "output_type": "stream",
          "name": "stdout",
          "text": [
            "<root><person><name>John</name><age>30</age><city>New York</city></person></root>\n"
          ]
        }
      ],
      "source": [
        "import xml.etree.ElementTree as ET\n",
        "\n",
        "def dict_to_xml(dictionary, root_name):\n",
        "    root = ET.Element(root_name)\n",
        "    for key, value in dictionary.items():\n",
        "        if isinstance(value, dict):\n",
        "            child = dict_to_xml(value, key)\n",
        "            root.append(child)\n",
        "        else:\n",
        "            child = ET.Element(key)\n",
        "            child.text = str(value)\n",
        "            root.append(child)\n",
        "    return root\n",
        "\n",
        "# Example dictionary\n",
        "my_dict = {\n",
        "    \"person\": {\n",
        "        \"name\": \"John\",\n",
        "        \"age\": 30,\n",
        "        \"city\": \"New York\"\n",
        "    }\n",
        "}\n",
        "\n",
        "# Convert dictionary to XML\n",
        "xml_root = dict_to_xml(my_dict, \"root\")\n",
        "xml_string = ET.tostring(xml_root, encoding=\"utf-8\", method=\"xml\")\n",
        "\n",
        "# Print the XML string\n",
        "print(xml_string.decode())"
      ]
    },
    {
      "cell_type": "markdown",
      "source": [
        "6) Write a program to validate phone number."
      ],
      "metadata": {
        "id": "OgIEhEPMBtKU"
      }
    },
    {
      "cell_type": "code",
      "execution_count": null,
      "metadata": {
        "colab": {
          "base_uri": "https://localhost:8080/"
        },
        "id": "hzoorQG76qbs",
        "outputId": "72488dc4-7918-4a2c-be24-2185f634df5a"
      },
      "outputs": [
        {
          "output_type": "stream",
          "name": "stdout",
          "text": [
            "[''] is not a valid phone number.\n"
          ]
        }
      ],
      "source": [
        "import re\n",
        "\n",
        "def validate_phone_number(phone_number):\n",
        "    pattern = r\"^\\d{3}-\\d{3}-\\d{4}$\"  # Regex pattern for phone number format XXX-XXX-XXXX\n",
        "    if re.match(pattern, phone_number):\n",
        "        return True\n",
        "    else:\n",
        "        return False\n",
        "\n",
        "# Example phone numbers\n",
        "phone_number = [\"\"]\n",
        "\n",
        "# Validate phone numbers\n",
        "for number in phone_number:\n",
        "    if validate_phone_number(number):\n",
        "        print(phone_number, \"is a valid phone number.\")\n",
        "    else:\n",
        "        print(phone_number, \"is not a valid phone number.\")"
      ]
    },
    {
      "cell_type": "code",
      "execution_count": null,
      "metadata": {
        "id": "NAo6t0vTaaTS"
      },
      "outputs": [],
      "source": []
    },
    {
      "cell_type": "markdown",
      "source": [
        "7) Given 2 sets of integers, M and N, print their symmetric difference in\n",
        "ascending order. The term symmetric difference indicates those values that exist in either M or N but do not exist in both."
      ],
      "metadata": {
        "id": "w4Yb_fVfB_57"
      }
    },
    {
      "cell_type": "code",
      "source": [
        "l1 = int(input(\"Enter the length of set m: \"))\n",
        "m = set()\n",
        "print(\"Enter elements of set m:\")\n",
        "for _ in range(l1):\n",
        "    element = int(input())\n",
        "    m.add(element)\n",
        "\n",
        "l2 = int(input(\"Enter the length of set n: \"))\n",
        "n = set()\n",
        "print(\"Enter elements of set n:\")\n",
        "for _ in range(l2):\n",
        "    element = int(input())\n",
        "    n.add(element)\n",
        "\n",
        "# Calculate the symmetric difference\n",
        "symmetric_diff = sorted(m.symmetric_difference(n))\n",
        "\n",
        "# Print the symmetric difference in ascending order\n",
        "print(symmetric_diff)"
      ],
      "metadata": {
        "colab": {
          "base_uri": "https://localhost:8080/"
        },
        "id": "f4KOA7FfbPX3",
        "outputId": "6b83de7a-38bc-43ec-cac3-51fe300c0f17"
      },
      "execution_count": null,
      "outputs": [
        {
          "output_type": "stream",
          "name": "stdout",
          "text": [
            "Enter the length of set m: 4\n",
            "Enter elements of set m:\n",
            "2\n",
            "4\n",
            "5\n",
            "9\n",
            "Enter the length of set n: 4\n",
            "Enter elements of set n:\n",
            "5\n",
            "9\n",
            "11\n",
            "12\n",
            "[2, 4, 11, 12]\n"
          ]
        }
      ]
    },
    {
      "cell_type": "markdown",
      "source": [
        "8) Consider a list (list = []). You can perform the following commands:\n",
        "1.      insert i e: Insert integer e at position i.\n",
        "2.      print: Print the list.\n",
        "3.      remove e: Delete the first occurrence of integer e.\n",
        "4.      append e: Insert integer e at the end of the list.\n",
        "5.      sort: Sort the list.\n",
        "6.      pop: Pop the last element from the list.\n",
        "7.      reverse: Reverse the list.\n",
        "Initialize your list and read in the value of n followed by  n lines of commands\n",
        "where each command will be of the  7 types listed above. Iterate through\n",
        "each command in order and perform the corresponding operation on your list."
      ],
      "metadata": {
        "id": "8ifUrj4MMiET"
      }
    },
    {
      "cell_type": "code",
      "source": [
        "# Initialize an empty list\n",
        "my_list = []\n",
        "\n",
        "# Read the value of n\n",
        "n = 12\n",
        "\n",
        "# Iterate through n lines of commands\n",
        "commands = [\n",
        "    \"insert 0 5\",\n",
        "    \"insert 1 10\",\n",
        "    \"insert 0 6\",\n",
        "    \"print\",\n",
        "    \"remove 6\",\n",
        "    \"append 9\",\n",
        "    \"append 1\",\n",
        "    \"sort\",\n",
        "    \"print\",\n",
        "    \"pop\",\n",
        "    \"reverse\",\n",
        "    \"print\"\n",
        "]\n",
        "\n",
        "for command in commands:\n",
        "    parts = command.split()\n",
        "    operation = parts[0]\n",
        "\n",
        "    if operation == \"insert\":\n",
        "        i = int(parts[1])\n",
        "        e = int(parts[2])\n",
        "        my_list.insert(i, e)\n",
        "    elif operation == \"print\":\n",
        "        print(my_list)\n",
        "    elif operation == \"remove\":\n",
        "        e = int(parts[1])\n",
        "        my_list.remove(e)\n",
        "    elif operation == \"append\":\n",
        "        e = int(parts[1])\n",
        "        my_list.append(e)\n",
        "    elif operation == \"sort\":\n",
        "        my_list.sort()\n",
        "    elif operation == \"pop\":\n",
        "        my_list.pop()\n",
        "    elif operation == \"reverse\":\n",
        "        my_list.reverse()"
      ],
      "metadata": {
        "colab": {
          "base_uri": "https://localhost:8080/"
        },
        "id": "zMCWsAsEKjXb",
        "outputId": "90a3010a-526f-4389-930b-3cdf89b04176"
      },
      "execution_count": null,
      "outputs": [
        {
          "output_type": "stream",
          "name": "stdout",
          "text": [
            "[6, 5, 10]\n",
            "[1, 5, 9, 10]\n",
            "[9, 5, 1]\n"
          ]
        }
      ]
    },
    {
      "cell_type": "markdown",
      "source": [
        "9)You are given a date. Your task is to find what the day is on that date."
      ],
      "metadata": {
        "id": "clkvY7kOGhCH"
      }
    },
    {
      "cell_type": "code",
      "source": [
        "from datetime import datetime\n",
        "\n",
        "date_str = input(\"Enter a date (mm dd yyyy): \")\n",
        "\n",
        "try:\n",
        "    # Convert the input string to a datetime object\n",
        "    date_obj = datetime.strptime(date_str, \"%m %d %Y\")\n",
        "\n",
        "    # Get the day of the week as an integer (Monday = 0, Sunday = 6)\n",
        "    day_of_week = date_obj.weekday()\n",
        "\n",
        "    # Create a list of weekday names\n",
        "    weekdays = [\"MONDAY\", \"TUESDAY\", \"WEDNESDAY\", \"THURSDAY\", \"FRIDAY\", \"SATURDAY\", \"SUNDAY\"]\n",
        "\n",
        "    # Get the day name from the list based on the day of the week index\n",
        "    day_name = weekdays[day_of_week]\n",
        "\n",
        "    print(f\"The day for {date_str} is {day_name}.\")\n",
        "except ValueError:\n",
        "    print(\"Invalid date format. Please enter the date in dd mm yyyy format.\")"
      ],
      "metadata": {
        "colab": {
          "base_uri": "https://localhost:8080/"
        },
        "id": "qD-6sefwrnd4",
        "outputId": "0302f94e-d309-4267-97a2-93ddfed649d7"
      },
      "execution_count": null,
      "outputs": [
        {
          "output_type": "stream",
          "name": "stdout",
          "text": [
            "Enter a date (mm dd yyyy): 09 30 2023\n",
            "The day for 09 30 2023 is SATURDAY.\n"
          ]
        }
      ]
    },
    {
      "cell_type": "markdown",
      "source": [
        "10) Write a program which accepts a sequence of words separated by\n",
        "whitespace as input to print the words composed of digits only."
      ],
      "metadata": {
        "id": "n3WHvwNdGlMh"
      }
    },
    {
      "cell_type": "code",
      "source": [
        "input_sequence = input(\"Enter a sequence of words: \")\n",
        "\n",
        "# Split the input sequence into individual words\n",
        "words = input_sequence.split()\n",
        "\n",
        "# Iterate over each word\n",
        "for word in words:\n",
        "    # Check if the word contains only digits\n",
        "    if word.isdigit():\n",
        "        print(word)"
      ],
      "metadata": {
        "colab": {
          "base_uri": "https://localhost:8080/"
        },
        "id": "0zjHOR14sKDw",
        "outputId": "6f1e6eb7-16db-4c84-9d5e-36e1c332a59c"
      },
      "execution_count": null,
      "outputs": [
        {
          "output_type": "stream",
          "name": "stdout",
          "text": [
            "Enter a sequence of words: 2 cats and 3 dogs\n",
            "2\n",
            "3\n"
          ]
        }
      ]
    },
    {
      "cell_type": "code",
      "source": [],
      "metadata": {
        "id": "8dPCW1Zou1zE"
      },
      "execution_count": null,
      "outputs": []
    }
  ],
  "metadata": {
    "colab": {
      "provenance": [],
      "include_colab_link": true
    },
    "kernelspec": {
      "display_name": "Python 3",
      "name": "python3"
    },
    "language_info": {
      "name": "python"
    }
  },
  "nbformat": 4,
  "nbformat_minor": 0
}